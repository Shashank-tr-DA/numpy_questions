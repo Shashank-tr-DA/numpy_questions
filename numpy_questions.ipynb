{
 "cells": [
  {
   "cell_type": "markdown",
   "metadata": {},
   "source": [
    "# Q1. Buy/ Sell for maximum profit\n",
    "'''\n",
    "In this task, you will combine vectorization and aggregation methods to solve a BUY-SELL problem. You have a range of prices at 3 intervals of a day for 2 consecutive days and you can buy and sell only once. First, you will buy and then sell for the maximum profit.\n",
    "\n",
    "Initialize an array prices = [[40, 35, 20], [21, 48, 70]]. Here, 40 is the market price during the first interval of the first day and 35 during the second interval and so on. Similarly, 21 is the price during the first half of the second day and 48 during the second half\n",
    "Flatten the array with the .flatten() method. This method will convert your 2-D array into a 1-D array and store it in variable prices.\n",
    "Find the minimum over the flattened array using np.min(), this will be your buying_price\n",
    "Also find the index of buying price by first converting the array into a list using list(array) and then use the .index(buying_price) attribute to pick the index of the buying price and store it in a variable index\n",
    "Create a new subset starting from the index (created in the previous step) till the end of the array and find the maximum value using np.max() in it. This will be your selling_price\n",
    "Find the difference between buying and selling price and save the same in variable profit\n",
    "Test Cases: The calculated value of buying_price should be 20.\n",
    "The calculated value of selling_price should be 70.\n",
    "The calculated value of profit should be 50.\n",
    "'''"
   ]
  },
  {
   "cell_type": "code",
   "execution_count": 1,
   "metadata": {},
   "outputs": [
    {
     "name": "stdout",
     "output_type": "stream",
     "text": [
      "20\n",
      "70\n",
      "50\n"
     ]
    }
   ],
   "source": [
    "import numpy as np\n",
    "prices = np.array([[40, 35, 20], [21, 48, 70]])\n",
    "prices = prices.flatten()\n",
    "buying_price = np.min(prices)\n",
    "index = list(prices).index(buying_price)\n",
    "new_prices = prices[index:]\n",
    "selling_price = np.max(new_prices)\n",
    "profit = selling_price - buying_price\n",
    "print(buying_price)\n",
    "print(selling_price)\n",
    "print(profit)"
   ]
  },
  {
   "cell_type": "markdown",
   "metadata": {},
   "source": [
    "# Q2. Normalize a 5x5 matrix\n",
    "'''\n",
    "In this task, you will normalize i.e. subtract the minimum value and divide by the range\n",
    "\n",
    "Create a random 5x5 matrix with the help of np.random.random((5,5)) and save it as z\n",
    "Calculate the minimum and maximum value with the help of .min() and .max() methods respectively for the 5x5 array. Save them as zmax and zmin for maximum and minimum respectively\n",
    "Now using the power of broadcasting subtract the minimum value from each element and divide by their range (maximum-minimum) to normalize. Save this normalized as z_norm\n",
    "Print the standardized array\n",
    "Test Cases: The calculated value of zmax should be 0.97.\n",
    "The calculated value of zmin should be 0.02.\n",
    "The calculated value of z_norm should be 0.03.\n",
    "'''"
   ]
  },
  {
   "cell_type": "code",
   "execution_count": 2,
   "metadata": {},
   "outputs": [
    {
     "name": "stdout",
     "output_type": "stream",
     "text": [
      "0.9704851253491577\n",
      "0.021616249915949792\n",
      "[[0.02856942 0.28190767 0.73703555 0.         0.19423813]\n",
      " [0.03072817 0.29577917 0.67690496 0.3019365  0.59225784]\n",
      " [0.05053881 0.89136471 0.1176393  0.16494209 0.49987233]\n",
      " [0.88746023 0.77705951 1.         0.77743756 0.38217481]\n",
      " [0.40796162 0.72901978 0.26247412 0.87734633 0.93959001]]\n"
     ]
    }
   ],
   "source": [
    "import numpy as np\n",
    "np.random.seed(21)\n",
    "\n",
    "# Code starts here\n",
    "\n",
    "# create random 5x5 array\n",
    "z = np.random.random((5,5))\n",
    "# minimum and maximum values\n",
    "zmax = np.max(z)\n",
    "zmin = np.min(z)\n",
    "print(zmax)\n",
    "print(zmin)\n",
    "# normalize\n",
    "z_norm = np.divide((z - zmin), (zmax-zmin))\n",
    "\n",
    "# display\n",
    "print(z_norm)"
   ]
  },
  {
   "cell_type": "markdown",
   "metadata": {},
   "source": [
    "# Q3. Find roots of quadratic equation\n",
    "'''\n",
    "The quadratic equation that you will be solving is x^2 -4x + 4 = 0x \n",
    "2\n",
    " −4x+4=0\n",
    "Make an array coeff to store the coefficients (1,-4, 4) of the quadratic equation\n",
    "Pass this array coeff as argument to np.roots() method which will return the roots for the quadratic equation x^2 -4x + 4 = 0x \n",
    "2\n",
    " −4x+4=0. Save it as roots\n",
    "Print out roots to see your result\n",
    "Test Cases: roots[0] should be 2.0 roots[1] should be 2.0.\n",
    "coeff[0] should be 1, coeff[1] should be -4 and coeff[2] should be 4.\n",
    "'''"
   ]
  },
  {
   "cell_type": "code",
   "execution_count": 3,
   "metadata": {},
   "outputs": [
    {
     "name": "stdout",
     "output_type": "stream",
     "text": [
      "[2. 2.]\n"
     ]
    }
   ],
   "source": [
    "# import packages\n",
    "import numpy as np\n",
    "\n",
    "# Code starts here\n",
    "\n",
    "# co-efficients of x\n",
    "coeff = np.array([1, -4, 4])\n",
    "\n",
    "# roots of equation\n",
    "roots = np.roots(coeff)\n",
    "\n",
    "# display roots\n",
    "print(roots)\n",
    "\n",
    "# Code ends here"
   ]
  },
  {
   "cell_type": "markdown",
   "metadata": {},
   "source": [
    "# Q4. Convert from centigrade to fahrenheit\n",
    "'''\n",
    "Store the given temperatures in an array centigrade_temps\n",
    "Define a function convert which takes one argument celsius(Centigrade temperature) that achieves the conversion from centigrade to Fahrenheit.\n",
    "The conversion formula is given, the body of convert must return the Fahrenheit temperature\n",
    "Use convert on centigrade_temps to convert Centigrade to Fahrenheit scale and store it as fahrenheit_temps\n",
    "Test Cases: fahrenheit_temps[0] == 32\n",
    "fahrenheit_temps[3] == 89.6\n",
    "'''"
   ]
  },
  {
   "cell_type": "code",
   "execution_count": 4,
   "metadata": {},
   "outputs": [
    {
     "name": "stdout",
     "output_type": "stream",
     "text": [
      "[ 32.     50.     77.     89.6   176.    211.982]\n"
     ]
    }
   ],
   "source": [
    "# Code starts here\n",
    "import numpy as np\n",
    "# centigrade temperatures\n",
    "centigrade_temps = np.array([0, 10, 25, 32, 80, 99.99])\n",
    "\n",
    "# function for conversion\n",
    "def convert(celsius):\n",
    "    return 1.8 * celsius + 32\n",
    "\n",
    "# display fahrehheit temperatures\n",
    "fahrenheit_temps = convert(centigrade_temps)\n",
    "print(fahrenheit_temps)\n",
    "\n",
    "# Code ends here"
   ]
  },
  {
   "attachments": {
    "image.png": {
     "image/png": "[encoded data removed]"
    }
   },
   "cell_type": "markdown",
   "metadata": {},
   "source": [
    "# Q5. Solve system of equations\n",
    "'''\n",
    "You have a system of a linear equation Ax = bAx=b where\n",
    "\n",
    "![image.png](attachment:image.png)\n",
    "\n",
    "Define variables A and b as shown above\n",
    "Use .linalg.solve() to solve for the system of linear equation. Go through the documentation for numpy.linalg.solve to better understand its behaviour. Save this result as x\n",
    "Check that your solution is correct with the function np.allclose(np.dot(A,x), b) and save it to a variable check. Print out check to see if it is True or else try again!\n",
    "Test Cases: The calculated value of checkshould be True.\n",
    "'''"
   ]
  },
  {
   "cell_type": "code",
   "execution_count": 5,
   "metadata": {},
   "outputs": [
    {
     "name": "stdout",
     "output_type": "stream",
     "text": [
      "True\n"
     ]
    }
   ],
   "source": [
    "# Code starts here\n",
    "import numpy as np\n",
    "# initialize matrix A and b\n",
    "A = np.array([[2, 1, 2], [3, 0, 1], [1, 1, -1]])\n",
    "B = np.array([[-3], [5], [2]])\n",
    "# Solve for x\n",
    "x = np.linalg.solve(A, B)\n",
    "\n",
    "# Check solution\n",
    "check = np.allclose(np.dot(A, x), B)\n",
    "print(check)\n",
    "# Code ends here"
   ]
  },
  {
   "attachments": {
    "image.png": {
     "image/png": "[encoded data removed]"
    }
   },
   "cell_type": "markdown",
   "metadata": {},
   "source": [
    "# Q6. Find a non singular matrix\n",
    "'''\n",
    "![image.png](attachment:image.png)\n",
    "Assume that A is a non-singular matrix\n",
    "Resolve the equation 3A = A^2 + AB until it reduces to a simpler form for you to carry out simple array addition. Array A should be coming as A = 3I - B where I is the Identity matrix\n",
    "Initialize array B using np.array() and I using np.identity()\n",
    "Save resultant array as A which is given mathematically by A = 3I - B\n",
    "Display matrix A\n",
    "Test Cases: The calculated value of A should be [[1, 0, 1], [0, 1, 1], [1, 0, 2]]. \n",
    "'''"
   ]
  },
  {
   "cell_type": "code",
   "execution_count": 6,
   "metadata": {},
   "outputs": [
    {
     "name": "stdout",
     "output_type": "stream",
     "text": [
      "[[1 0 1]\n",
      " [0 1 1]\n",
      " [1 0 2]]\n"
     ]
    }
   ],
   "source": [
    "import numpy as np\n",
    "# initialize array B and Identity matrix\n",
    "B = np.array([[2, 0, -1], [0, 2, -1], [-1, 0, 1]])\n",
    "I = np.identity(3, dtype = 'int')\n",
    "# calculate result\n",
    "A = (3 * I) - B \n",
    "print(A)\n",
    "# Code ends here"
   ]
  }
 ],
 "metadata": {
  "kernelspec": {
   "display_name": "Python 3",
   "language": "python",
   "name": "python3"
  },
  "language_info": {
   "codemirror_mode": {
    "name": "ipython",
    "version": 3
   },
   "file_extension": ".py",
   "mimetype": "text/x-python",
   "name": "python",
   "nbconvert_exporter": "python",
   "pygments_lexer": "ipython3",
   "version": "3.8.3"
  }
 },
 "nbformat": 4,
 "nbformat_minor": 4
}
